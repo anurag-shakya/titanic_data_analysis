{
  "nbformat": 4,
  "nbformat_minor": 0,
  "metadata": {
    "colab": {
      "name": "titanic_case_study_part2.ipynb",
      "version": "0.3.2",
      "provenance": []
    },
    "kernelspec": {
      "display_name": "Python 2",
      "language": "python",
      "name": "python2"
    }
  },
  "cells": [
    {
      "cell_type": "markdown",
      "metadata": {
        "id": "view-in-github",
        "colab_type": "text"
      },
      "source": [
        "[View in Colaboratory](https://colab.research.google.com/github/anurag-shakya/titanic_data_analysis/blob/master/titanic_case_study_part2.ipynb)"
      ]
    },
    {
      "metadata": {
        "id": "bezKd63p7HnL",
        "colab_type": "text"
      },
      "cell_type": "markdown",
      "source": [
        "## Importing Libraries"
      ]
    },
    {
      "metadata": {
        "id": "ijvigMzI1F70",
        "colab_type": "code",
        "colab": {}
      },
      "cell_type": "code",
      "source": [
        "from sklearn.model_selection import train_test_split\n",
        "from sklearn.linear_model import LogisticRegression\n",
        "from sklearn.metrics import accuracy_score\n",
        "from sklearn.linear_model import LogisticRegression\n",
        "from sklearn.naive_bayes import GaussianNB\n",
        "from sklearn.tree import DecisionTreeClassifier\n",
        "from sklearn.ensemble import RandomForestClassifier\n",
        "from sklearn.neighbors import KNeighborsClassifier\n",
        "import seaborn as sns\n",
        "sns.set()\n",
        "import matplotlib.pyplot as plt \n",
        "import pandas as pd"
      ],
      "execution_count": 0,
      "outputs": []
    },
    {
      "metadata": {
        "id": "OnJ_4GtL1F8I",
        "colab_type": "text"
      },
      "cell_type": "markdown",
      "source": [
        "## Loading Dataset"
      ]
    },
    {
      "metadata": {
        "id": "BqmB7ypp1F7-",
        "colab_type": "code",
        "colab": {}
      },
      "cell_type": "code",
      "source": [
        "df = pd.read_csv('https://raw.githubusercontent.com/Gurjeetkaur31/Titanic_Survival/master/titanic_prepared_data.csv')\n",
        "X = df.iloc[:, 1:].values\n",
        "y = df.iloc[:, 0:1].values\n",
        "X_train, X_test, y_train, y_test = train_test_split(X, y, test_size = 0.25, random_state = 42)"
      ],
      "execution_count": 0,
      "outputs": []
    },
    {
      "metadata": {
        "id": "e7QLmSar1F8S",
        "colab_type": "text"
      },
      "cell_type": "markdown",
      "source": [
        "## Model 1: Multiclass Logistic Regression"
      ]
    },
    {
      "metadata": {
        "id": "JtOSrHWB1F8S",
        "colab_type": "code",
        "colab": {
          "base_uri": "https://localhost:8080/",
          "height": 34
        },
        "outputId": "0ed973c7-8a58-48eb-bab7-919481b48f41"
      },
      "cell_type": "code",
      "source": [
        "clf = LogisticRegression()\n",
        "clf.fit(X_train, y_train.ravel()) \n",
        "y_pred_log_reg = clf.predict(X_test)\n",
        "model1_acc = accuracy_score(y_pred_log_reg, y_test)\n",
        "print model1_acc*100, \"%\""
      ],
      "execution_count": 12,
      "outputs": [
        {
          "output_type": "stream",
          "text": [
            "80.26905829596413 %\n"
          ],
          "name": "stdout"
        }
      ]
    },
    {
      "metadata": {
        "id": "Aj4nPyW81F8w",
        "colab_type": "text"
      },
      "cell_type": "markdown",
      "source": [
        "## Model 2: KNN"
      ]
    },
    {
      "metadata": {
        "id": "-Y1KWILw1F8w",
        "colab_type": "code",
        "colab": {
          "base_uri": "https://localhost:8080/",
          "height": 34
        },
        "outputId": "61a2e574-e205-41fa-d798-4698492c3740"
      },
      "cell_type": "code",
      "source": [
        "clf = KNeighborsClassifier(n_neighbors = 3)\n",
        "clf.fit(X_train, y_train.ravel())\n",
        "y_pred_knn = clf.predict(X_test)\n",
        "model2_acc = accuracy_score(y_pred_knn, y_test) \n",
        "print model2_acc*100, \"%\""
      ],
      "execution_count": 14,
      "outputs": [
        {
          "output_type": "stream",
          "text": [
            "73.09417040358744 %\n"
          ],
          "name": "stdout"
        }
      ]
    },
    {
      "metadata": {
        "id": "9EDuZdIv1F86",
        "colab_type": "text"
      },
      "cell_type": "markdown",
      "source": [
        "## Model 3: Gaussian Naive Bayes"
      ]
    },
    {
      "metadata": {
        "id": "2OgxQox31F9E",
        "colab_type": "code",
        "colab": {
          "base_uri": "https://localhost:8080/",
          "height": 34
        },
        "outputId": "4150bdcb-84a7-4ce4-a423-8e560cb71c99"
      },
      "cell_type": "code",
      "source": [
        "clf = GaussianNB()\n",
        "clf.fit(X_train, y_train.ravel())\n",
        "y_pred_gnb = clf.predict(X_test)\n",
        "model3_acc = accuracy_score(y_pred_gnb, y_test)\n",
        "print model3_acc*100, \"%\""
      ],
      "execution_count": 15,
      "outputs": [
        {
          "output_type": "stream",
          "text": [
            "75.7847533632287 %\n"
          ],
          "name": "stdout"
        }
      ]
    },
    {
      "metadata": {
        "id": "PU1EaU191F9N",
        "colab_type": "text"
      },
      "cell_type": "markdown",
      "source": [
        "## Model 4: Decision Tree "
      ]
    },
    {
      "metadata": {
        "id": "MrsSHYkG1F9N",
        "colab_type": "code",
        "colab": {
          "base_uri": "https://localhost:8080/",
          "height": 34
        },
        "outputId": "90248887-0deb-407c-9d19-6991d06c8b98"
      },
      "cell_type": "code",
      "source": [
        "clf = DecisionTreeClassifier()\n",
        "clf.fit(X_train, y_train.ravel())\n",
        "y_pred_decision_tree = clf.predict(X_test)\n",
        "model4_acc = accuracy_score(y_pred_decision_tree, y_test) \n",
        "print model4_acc*100, \"%\""
      ],
      "execution_count": 16,
      "outputs": [
        {
          "output_type": "stream",
          "text": [
            "74.88789237668162 %\n"
          ],
          "name": "stdout"
        }
      ]
    },
    {
      "metadata": {
        "id": "81Z6urUG1F9Y",
        "colab_type": "text"
      },
      "cell_type": "markdown",
      "source": [
        "## Model 5: Random Forest"
      ]
    },
    {
      "metadata": {
        "id": "3dxwrhav1F9Y",
        "colab_type": "code",
        "colab": {
          "base_uri": "https://localhost:8080/",
          "height": 34
        },
        "outputId": "a3365959-ba78-47de-d07a-9b690df7b006"
      },
      "cell_type": "code",
      "source": [
        "clf = RandomForestClassifier(n_estimators=100)\n",
        "clf.fit(X_train, y_train.ravel())\n",
        "y_pred_random_forest = clf.predict(X_test)\n",
        "model5_acc  = accuracy_score(y_pred_random_forest, y_test) \n",
        "print model5_acc*100, \"%\""
      ],
      "execution_count": 17,
      "outputs": [
        {
          "output_type": "stream",
          "text": [
            "81.16591928251121 %\n"
          ],
          "name": "stdout"
        }
      ]
    },
    {
      "metadata": {
        "id": "6CBJtPum1F9s",
        "colab_type": "text"
      },
      "cell_type": "markdown",
      "source": [
        "## Comparing Models (Plotting accuracy) "
      ]
    },
    {
      "metadata": {
        "id": "fh6ztazN1F9s",
        "colab_type": "code",
        "colab": {}
      },
      "cell_type": "code",
      "source": [
        "# dictionary to plot bar graph\n",
        "classifiers = {'Logistic Regression':model1_acc,\n",
        "              'K Nearest Neghbour':model2_acc,\n",
        "              'Gaussian Naive Bayes':model3_acc,\n",
        "              'Decision Tree':model4_acc,\n",
        "              'Random Forest':model5_acc}"
      ],
      "execution_count": 0,
      "outputs": []
    },
    {
      "metadata": {
        "id": "ryW6j9Yc1F9t",
        "colab_type": "code",
        "colab": {
          "base_uri": "https://localhost:8080/",
          "height": 198
        },
        "outputId": "bc2ef11e-42a5-475a-a740-7b70d4f7313c"
      },
      "cell_type": "code",
      "source": [
        "models = pd.DataFrame({\n",
        "    'Model': ['Logistic Regression', 'KNN', 'Decision Tree', \n",
        "              'Random Forest', 'Naive Bayes'],\n",
        "    \n",
        "    'Score': [model1_acc, model2_acc,  model3_acc, model3_acc, model5_acc]\n",
        "    })\n",
        "\n",
        "models.sort_values(by='Score', ascending=False)"
      ],
      "execution_count": 20,
      "outputs": [
        {
          "output_type": "execute_result",
          "data": {
            "text/html": [
              "<div>\n",
              "<style scoped>\n",
              "    .dataframe tbody tr th:only-of-type {\n",
              "        vertical-align: middle;\n",
              "    }\n",
              "\n",
              "    .dataframe tbody tr th {\n",
              "        vertical-align: top;\n",
              "    }\n",
              "\n",
              "    .dataframe thead th {\n",
              "        text-align: right;\n",
              "    }\n",
              "</style>\n",
              "<table border=\"1\" class=\"dataframe\">\n",
              "  <thead>\n",
              "    <tr style=\"text-align: right;\">\n",
              "      <th></th>\n",
              "      <th>Model</th>\n",
              "      <th>Score</th>\n",
              "    </tr>\n",
              "  </thead>\n",
              "  <tbody>\n",
              "    <tr>\n",
              "      <th>4</th>\n",
              "      <td>Naive Bayes</td>\n",
              "      <td>0.811659</td>\n",
              "    </tr>\n",
              "    <tr>\n",
              "      <th>0</th>\n",
              "      <td>Logistic Regression</td>\n",
              "      <td>0.802691</td>\n",
              "    </tr>\n",
              "    <tr>\n",
              "      <th>2</th>\n",
              "      <td>Decision Tree</td>\n",
              "      <td>0.757848</td>\n",
              "    </tr>\n",
              "    <tr>\n",
              "      <th>3</th>\n",
              "      <td>Random Forest</td>\n",
              "      <td>0.757848</td>\n",
              "    </tr>\n",
              "    <tr>\n",
              "      <th>1</th>\n",
              "      <td>KNN</td>\n",
              "      <td>0.730942</td>\n",
              "    </tr>\n",
              "  </tbody>\n",
              "</table>\n",
              "</div>"
            ],
            "text/plain": [
              "                 Model     Score\n",
              "4          Naive Bayes  0.811659\n",
              "0  Logistic Regression  0.802691\n",
              "2        Decision Tree  0.757848\n",
              "3        Random Forest  0.757848\n",
              "1                  KNN  0.730942"
            ]
          },
          "metadata": {
            "tags": []
          },
          "execution_count": 20
        }
      ]
    },
    {
      "metadata": {
        "id": "qIto7BJP6JyG",
        "colab_type": "text"
      },
      "cell_type": "markdown",
      "source": [
        "## BarPlot: Different Algorithms vs Accuracy Score"
      ]
    },
    {
      "metadata": {
        "id": "OnNJBDYW1F94",
        "colab_type": "code",
        "colab": {
          "base_uri": "https://localhost:8080/",
          "height": 620
        },
        "outputId": "35cdebdc-41f0-497a-ae6a-5e7860494e4e"
      },
      "cell_type": "code",
      "source": [
        "plt.figure(figsize=(10, 10))\n",
        "\n",
        "plt.bar(range(len(classifiers)), classifiers.values(),align='center', width=0.5)\n",
        "\n",
        "plt.xticks(range(len(classifiers)), classifiers.keys())\n",
        "\n",
        "plt.xlabel('Classifier Algorithm')\n",
        "\n",
        "plt.title('Different Algorithms vs Accuracy Score')\n",
        "\n",
        "plt.show()"
      ],
      "execution_count": 26,
      "outputs": [
        {
          "output_type": "display_data",
          "data": {
            "image/png": "[encoded data removed]",
            "text/plain": [
              "<matplotlib.figure.Figure at 0x7f78f7df9390>"
            ]
          },
          "metadata": {
            "tags": []
          }
        }
      ]
    }
  ]
}