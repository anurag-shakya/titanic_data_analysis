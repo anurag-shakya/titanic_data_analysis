{
  "nbformat": 4,
  "nbformat_minor": 0,
  "metadata": {
    "colab": {
      "name": "titanic_case_study.ipynb",
      "version": "0.3.2",
      "views": {},
      "default_view": {},
      "provenance": [],
      "collapsed_sections": []
    }
  },
  "cells": [
    {
      "metadata": {
        "id": "K9gltjOpGIeI",
        "colab_type": "text"
      },
      "cell_type": "markdown",
      "source": [
        "### Importing Libraries"
      ]
    },
    {
      "metadata": {
        "id": "5oylTpcMGL1K",
        "colab_type": "code",
        "colab": {
          "autoexec": {
            "startup": false,
            "wait_interval": 0
          },
          "base_uri": "https://localhost:8080/",
          "height": 71
        },
        "outputId": "aef994a2-3a8e-47f9-a9ad-0b36ecc5fb5b",
        "executionInfo": {
          "status": "ok",
          "timestamp": 1523205106976,
          "user_tz": -330,
          "elapsed": 992,
          "user": {
            "displayName": "Anurag Shakya",
            "photoUrl": "//lh6.googleusercontent.com/-f_Q0F9Tt9xM/AAAAAAAAAAI/AAAAAAAAAvo/QEAODkH8fbk/s50-c-k-no/photo.jpg",
            "userId": "111537825243423660169"
          }
        }
      },
      "cell_type": "code",
      "source": [
        "import pandas as pd\n",
        "import numpy as np\n",
        "import matplotlib.pyplot as plt\n",
        "import seaborn as sns\n",
        "from sklearn.cross_validation import train_test_split\n",
        "from sklearn.preprocessing import LabelEncoder, OneHotEncoder\n",
        "from sklearn.preprocessing import StandardScaler\n",
        "from sklearn.linear_model import LogisticRegression\n",
        "sns.set() # setting seaborn default for plots\n",
        "%matplotlib inline"
      ],
      "execution_count": 2,
      "outputs": [
        {
          "output_type": "stream",
          "text": [
            "/usr/local/lib/python2.7/dist-packages/sklearn/cross_validation.py:41: DeprecationWarning: This module was deprecated in version 0.18 in favor of the model_selection module into which all the refactored classes and functions are moved. Also note that the interface of the new CV iterators are different from that of this module. This module will be removed in 0.20.\n",
            "  \"This module will be removed in 0.20.\", DeprecationWarning)\n"
          ],
          "name": "stderr"
        }
      ]
    },
    {
      "metadata": {
        "id": "c8Ak4xhnGbVI",
        "colab_type": "text"
      },
      "cell_type": "markdown",
      "source": [
        "### loading Titanic dataset"
      ]
    },
    {
      "metadata": {
        "id": "dSzcwMSsGWjS",
        "colab_type": "code",
        "colab": {
          "autoexec": {
            "startup": false,
            "wait_interval": 0
          }
        }
      },
      "cell_type": "code",
      "source": [
        "df=pd.read_csv('https://gist.githubusercontent.com/avmain/284b549eabc13061ce2b0b58b163c7f9/raw/ff20885745fea9ab5be6e900aad4c2cb1d08f936/titanic_data_set.csv',error_bad_lines=False)"
      ],
      "execution_count": 0,
      "outputs": []
    },
    {
      "metadata": {
        "id": "O89CJiYJGjmk",
        "colab_type": "text"
      },
      "cell_type": "markdown",
      "source": [
        "### Data Preprocessing"
      ]
    },
    {
      "metadata": {
        "id": "og86L_UgGf3I",
        "colab_type": "code",
        "colab": {
          "autoexec": {
            "startup": false,
            "wait_interval": 0
          }
        }
      },
      "cell_type": "code",
      "source": [
        "df=df.drop(['Cabin'],axis=1)\n",
        "df['Age']=df['Age'].fillna(df['Age'].mean())\n",
        "df=df.dropna()\n",
        "\n",
        "#taking care of categorical data\n",
        "df['Gender'] = df.Sex.apply(lambda x:1 if x == 'male' else 0)\n",
        "df=df.drop(['Name'],axis=1)\n",
        "df=df.drop(['Sex'],axis=1)\n",
        "df=df.drop(['Ticket'],axis=1)"
      ],
      "execution_count": 0,
      "outputs": []
    },
    {
      "metadata": {
        "id": "S23lZuoUGocE",
        "colab_type": "code",
        "colab": {
          "autoexec": {
            "startup": false,
            "wait_interval": 0
          }
        }
      },
      "cell_type": "code",
      "source": [
        "df = df[[\"PassengerId\",\"Pclass\",\"Age\",\"SibSp\",\"Fare\",\"Embarked\",\"Gender\",\"Survived\"]]"
      ],
      "execution_count": 0,
      "outputs": []
    },
    {
      "metadata": {
        "id": "IbFPoJZLGrTE",
        "colab_type": "code",
        "colab": {
          "autoexec": {
            "startup": false,
            "wait_interval": 0
          },
          "base_uri": "https://localhost:8080/",
          "height": 221
        },
        "outputId": "a21d0e9f-af3e-4056-ec8a-63568fd6cfb4",
        "executionInfo": {
          "status": "ok",
          "timestamp": 1523205219823,
          "user_tz": -330,
          "elapsed": 1034,
          "user": {
            "displayName": "Anurag Shakya",
            "photoUrl": "//lh6.googleusercontent.com/-f_Q0F9Tt9xM/AAAAAAAAAAI/AAAAAAAAAvo/QEAODkH8fbk/s50-c-k-no/photo.jpg",
            "userId": "111537825243423660169"
          }
        }
      },
      "cell_type": "code",
      "source": [
        "print(df.shape)\n",
        "df.head()"
      ],
      "execution_count": 7,
      "outputs": [
        {
          "output_type": "stream",
          "text": [
            "(889, 8)\n"
          ],
          "name": "stdout"
        },
        {
          "output_type": "execute_result",
          "data": {
            "text/html": [
              "<div>\n",
              "<style scoped>\n",
              "    .dataframe tbody tr th:only-of-type {\n",
              "        vertical-align: middle;\n",
              "    }\n",
              "\n",
              "    .dataframe tbody tr th {\n",
              "        vertical-align: top;\n",
              "    }\n",
              "\n",
              "    .dataframe thead th {\n",
              "        text-align: right;\n",
              "    }\n",
              "</style>\n",
              "<table border=\"1\" class=\"dataframe\">\n",
              "  <thead>\n",
              "    <tr style=\"text-align: right;\">\n",
              "      <th></th>\n",
              "      <th>PassengerId</th>\n",
              "      <th>Pclass</th>\n",
              "      <th>Age</th>\n",
              "      <th>SibSp</th>\n",
              "      <th>Fare</th>\n",
              "      <th>Embarked</th>\n",
              "      <th>Gender</th>\n",
              "      <th>Survived</th>\n",
              "    </tr>\n",
              "  </thead>\n",
              "  <tbody>\n",
              "    <tr>\n",
              "      <th>0</th>\n",
              "      <td>1</td>\n",
              "      <td>3</td>\n",
              "      <td>22.0</td>\n",
              "      <td>1</td>\n",
              "      <td>7.2500</td>\n",
              "      <td>S</td>\n",
              "      <td>1</td>\n",
              "      <td>0</td>\n",
              "    </tr>\n",
              "    <tr>\n",
              "      <th>1</th>\n",
              "      <td>2</td>\n",
              "      <td>1</td>\n",
              "      <td>38.0</td>\n",
              "      <td>1</td>\n",
              "      <td>71.2833</td>\n",
              "      <td>C</td>\n",
              "      <td>0</td>\n",
              "      <td>1</td>\n",
              "    </tr>\n",
              "    <tr>\n",
              "      <th>2</th>\n",
              "      <td>3</td>\n",
              "      <td>3</td>\n",
              "      <td>26.0</td>\n",
              "      <td>0</td>\n",
              "      <td>7.9250</td>\n",
              "      <td>S</td>\n",
              "      <td>0</td>\n",
              "      <td>1</td>\n",
              "    </tr>\n",
              "    <tr>\n",
              "      <th>3</th>\n",
              "      <td>4</td>\n",
              "      <td>1</td>\n",
              "      <td>35.0</td>\n",
              "      <td>1</td>\n",
              "      <td>53.1000</td>\n",
              "      <td>S</td>\n",
              "      <td>0</td>\n",
              "      <td>1</td>\n",
              "    </tr>\n",
              "    <tr>\n",
              "      <th>4</th>\n",
              "      <td>5</td>\n",
              "      <td>3</td>\n",
              "      <td>35.0</td>\n",
              "      <td>0</td>\n",
              "      <td>8.0500</td>\n",
              "      <td>S</td>\n",
              "      <td>1</td>\n",
              "      <td>0</td>\n",
              "    </tr>\n",
              "  </tbody>\n",
              "</table>\n",
              "</div>"
            ],
            "text/plain": [
              "   PassengerId  Pclass   Age  SibSp     Fare Embarked  Gender  Survived\n",
              "0            1       3  22.0      1   7.2500        S       1         0\n",
              "1            2       1  38.0      1  71.2833        C       0         1\n",
              "2            3       3  26.0      0   7.9250        S       0         1\n",
              "3            4       1  35.0      1  53.1000        S       0         1\n",
              "4            5       3  35.0      0   8.0500        S       1         0"
            ]
          },
          "metadata": {
            "tags": []
          },
          "execution_count": 7
        }
      ]
    },
    {
      "metadata": {
        "id": "iSnxPfoEG2Va",
        "colab_type": "text"
      },
      "cell_type": "markdown",
      "source": [
        "###  extracting feature matrix and labled vector"
      ]
    },
    {
      "metadata": {
        "id": "Q_rgeb-gGuFO",
        "colab_type": "code",
        "colab": {
          "autoexec": {
            "startup": false,
            "wait_interval": 0
          }
        }
      },
      "cell_type": "code",
      "source": [
        "X = df.iloc[:, :-1].values\n",
        "y = df.iloc[:, 7].values"
      ],
      "execution_count": 0,
      "outputs": []
    },
    {
      "metadata": {
        "id": "a3O_ivDhHFS1",
        "colab_type": "text"
      },
      "cell_type": "markdown",
      "source": [
        "### encoding  categorical data"
      ]
    },
    {
      "metadata": {
        "id": "IwFgMGEpHAaC",
        "colab_type": "code",
        "colab": {
          "autoexec": {
            "startup": false,
            "wait_interval": 0
          }
        }
      },
      "cell_type": "code",
      "source": [
        "label_x = LabelEncoder()\n",
        "X[:,5] = label_x.fit_transform(X[:,5])\n",
        "\n",
        "onehotencoder = OneHotEncoder(categorical_features = [5])\n",
        "X = onehotencoder.fit_transform(X).toarray()"
      ],
      "execution_count": 0,
      "outputs": []
    },
    {
      "metadata": {
        "id": "W9uzJQuqHTGC",
        "colab_type": "text"
      },
      "cell_type": "markdown",
      "source": [
        "### Splitting the dataset into the Training set and Test set"
      ]
    },
    {
      "metadata": {
        "id": "zzAPZGDHHIaL",
        "colab_type": "code",
        "colab": {
          "autoexec": {
            "startup": false,
            "wait_interval": 0
          }
        }
      },
      "cell_type": "code",
      "source": [
        "X_train, X_test, y_train, y_test = train_test_split(X, y, test_size = 0.25, random_state = 2)"
      ],
      "execution_count": 0,
      "outputs": []
    },
    {
      "metadata": {
        "id": "LkofXCYgHNIU",
        "colab_type": "code",
        "colab": {
          "autoexec": {
            "startup": false,
            "wait_interval": 0
          },
          "base_uri": "https://localhost:8080/",
          "height": 391
        },
        "outputId": "956f9ecc-941c-4247-ef53-39052e07a074",
        "executionInfo": {
          "status": "ok",
          "timestamp": 1523206481686,
          "user_tz": -330,
          "elapsed": 985,
          "user": {
            "displayName": "Anurag Shakya",
            "photoUrl": "//lh6.googleusercontent.com/-f_Q0F9Tt9xM/AAAAAAAAAAI/AAAAAAAAAvo/QEAODkH8fbk/s50-c-k-no/photo.jpg",
            "userId": "111537825243423660169"
          }
        }
      },
      "cell_type": "code",
      "source": [
        "# take a look at Training Data: X_train and y_train\n",
        "\n",
        "print(\"Total Data Used for Training : 75% \")\n",
        "print(\"-----------------------------------\")\n",
        "\n",
        "print(\"Feature Matrix: (Training set -X)\\n\")\n",
        "print(\"Shape : %s\" %(str(X_train.shape))) \n",
        "print(pd.DataFrame(X_train).head())\n",
        "\n",
        "print(\"\\n\")\n",
        "\n",
        "print(\"Labelled Vector: (Training set -y)\\n\")\n",
        "print(\"Shape : %s\" %(str(y_train.shape))) \n",
        "print(pd.DataFrame(y_train).head())"
      ],
      "execution_count": 31,
      "outputs": [
        {
          "output_type": "stream",
          "text": [
            "Total Data Used for Training : 75% \n",
            "-----------------------------------\n",
            "Feature Matrix: (Training set -X)\n",
            "\n",
            "Shape : (666, 9)\n",
            "     0    1    2      3    4     5    6       7    8\n",
            "0  0.0  0.0  1.0  201.0  3.0  28.0  0.0  9.5000  1.0\n",
            "1  1.0  0.0  0.0  131.0  3.0  33.0  0.0  7.8958  1.0\n",
            "2  0.0  0.0  1.0   92.0  3.0  20.0  0.0  7.8542  1.0\n",
            "3  0.0  0.0  1.0  232.0  3.0  29.0  0.0  7.7750  1.0\n",
            "4  0.0  0.0  1.0  128.0  3.0  24.0  0.0  7.1417  1.0\n",
            "\n",
            "\n",
            "Labelled Vector: (Training set -y)\n",
            "\n",
            "Shape : (666,)\n",
            "   0\n",
            "0  0\n",
            "1  0\n",
            "2  0\n",
            "3  0\n",
            "4  1\n"
          ],
          "name": "stdout"
        }
      ]
    },
    {
      "metadata": {
        "id": "zt31pwQZHa3O",
        "colab_type": "code",
        "colab": {
          "autoexec": {
            "startup": false,
            "wait_interval": 0
          },
          "base_uri": "https://localhost:8080/",
          "height": 391
        },
        "outputId": "f05f1e93-be97-4402-c9d2-fb29198865d4",
        "executionInfo": {
          "status": "ok",
          "timestamp": 1523206509775,
          "user_tz": -330,
          "elapsed": 1177,
          "user": {
            "displayName": "Anurag Shakya",
            "photoUrl": "//lh6.googleusercontent.com/-f_Q0F9Tt9xM/AAAAAAAAAAI/AAAAAAAAAvo/QEAODkH8fbk/s50-c-k-no/photo.jpg",
            "userId": "111537825243423660169"
          }
        }
      },
      "cell_type": "code",
      "source": [
        "# take a look at Testing Data: X_test and y_test\n",
        "\n",
        "print(\"Total Data Used for Testing : 25% \")\n",
        "print(\"-----------------------------------\")\n",
        "\n",
        "print(\"Feature Matrix: (Testing set -X)\\n\")\n",
        "print(\"Shape : %s\" %(str(X_test.shape))) \n",
        "print(pd.DataFrame(X_test).head())\n",
        "\n",
        "print(\"\\n\")\n",
        "\n",
        "print(\"Labelled Vector: (Testing set -y)\\n\")\n",
        "print(\"Shape : %s\" %(str(y_test.shape)))\n",
        "print(pd.DataFrame(y_test).head())"
      ],
      "execution_count": 32,
      "outputs": [
        {
          "output_type": "stream",
          "text": [
            "Total Data Used for Testing : 25% \n",
            "-----------------------------------\n",
            "Feature Matrix: (Testing set -X)\n",
            "\n",
            "Shape : (223, 9)\n",
            "     0    1    2      3    4          5    6        7    8\n",
            "0  0.0  1.0  0.0  561.0  3.0  29.699118  0.0   7.7500  1.0\n",
            "1  0.0  0.0  1.0   38.0  3.0  21.000000  0.0   8.0500  1.0\n",
            "2  0.0  0.0  1.0  616.0  2.0  24.000000  1.0  65.0000  0.0\n",
            "3  0.0  0.0  1.0  171.0  1.0  61.000000  0.0  33.5000  1.0\n",
            "4  0.0  0.0  1.0   70.0  3.0  26.000000  2.0   8.6625  1.0\n",
            "\n",
            "\n",
            "Labelled Vector: (Testing set -y)\n",
            "\n",
            "Shape : (223,)\n",
            "   0\n",
            "0  0\n",
            "1  0\n",
            "2  1\n",
            "3  0\n",
            "4  0\n"
          ],
          "name": "stdout"
        }
      ]
    },
    {
      "metadata": {
        "id": "jWcCB59eLz5_",
        "colab_type": "text"
      },
      "cell_type": "markdown",
      "source": [
        "### feature scaling"
      ]
    },
    {
      "metadata": {
        "id": "XdhcDlFxJuCG",
        "colab_type": "code",
        "colab": {
          "autoexec": {
            "startup": false,
            "wait_interval": 0
          }
        }
      },
      "cell_type": "code",
      "source": [
        "sc_X = StandardScaler()\n",
        "X_train = sc_X.fit_transform(X_train)\n",
        "X_test = sc_X.transform(X_test)"
      ],
      "execution_count": 0,
      "outputs": []
    },
    {
      "metadata": {
        "id": "oWLFbZNGL9Gc",
        "colab_type": "text"
      },
      "cell_type": "markdown",
      "source": [
        "### Model : Logistic Classification   "
      ]
    },
    {
      "metadata": {
        "id": "IJlMtMpML5FW",
        "colab_type": "code",
        "colab": {
          "autoexec": {
            "startup": false,
            "wait_interval": 0
          },
          "base_uri": "https://localhost:8080/",
          "height": 68
        },
        "outputId": "65cabc61-1063-4f80-f64e-28540cf6d1f6",
        "executionInfo": {
          "status": "ok",
          "timestamp": 1523206589508,
          "user_tz": -330,
          "elapsed": 934,
          "user": {
            "displayName": "Anurag Shakya",
            "photoUrl": "//lh6.googleusercontent.com/-f_Q0F9Tt9xM/AAAAAAAAAAI/AAAAAAAAAvo/QEAODkH8fbk/s50-c-k-no/photo.jpg",
            "userId": "111537825243423660169"
          }
        }
      },
      "cell_type": "code",
      "source": [
        "logisticregression = LogisticRegression()\n",
        "\n",
        "# Fitting Multiclass Logistic Classification to the Training set\n",
        "logisticregression.fit(X_train, y_train)\n",
        "\n",
        "# Predicting the Test set results\n",
        "y_pred = logisticregression.predict(X_test)\n",
        "\n",
        "print(\"\\nModel trained successfully \\n \")"
      ],
      "execution_count": 34,
      "outputs": [
        {
          "output_type": "stream",
          "text": [
            "\n",
            "Model trained successfully \n",
            " \n"
          ],
          "name": "stdout"
        }
      ]
    },
    {
      "metadata": {
        "id": "huWRKG8_MERo",
        "colab_type": "text"
      },
      "cell_type": "markdown",
      "source": [
        "### Accuracy:"
      ]
    },
    {
      "metadata": {
        "id": "AZ4LqRlMMAgC",
        "colab_type": "code",
        "colab": {
          "autoexec": {
            "startup": false,
            "wait_interval": 0
          },
          "base_uri": "https://localhost:8080/",
          "height": 311
        },
        "outputId": "f57a3f4a-2e00-4043-9e45-e0995fc1b130",
        "executionInfo": {
          "status": "ok",
          "timestamp": 1523206852944,
          "user_tz": -330,
          "elapsed": 1350,
          "user": {
            "displayName": "Anurag Shakya",
            "photoUrl": "//lh6.googleusercontent.com/-f_Q0F9Tt9xM/AAAAAAAAAAI/AAAAAAAAAvo/QEAODkH8fbk/s50-c-k-no/photo.jpg",
            "userId": "111537825243423660169"
          }
        }
      },
      "cell_type": "code",
      "source": [
        "print(\"Model accuracy : %.4f\" %(logisticregression.score(X_test, y_test)*100) + \"%\")\n",
        "\n",
        "# plot between actual labels(y) -vs- predicted labels(y)\n",
        "plt.title('Predictions of Survival')\n",
        "\n",
        "# blue line  : Actual labels(0 or 1)\n",
        "# red dashed : Predicted labels(0 or 1)\n",
        "plt.plot(y_test[:25], color='blue', label='True labels')\n",
        "plt.plot(y_pred[:25], 'r--', label='Predicted labels')\n",
        "\n",
        "plt.xlabel('No. of People ---->')\n",
        "plt.ylabel('0 = not survived                       survived = 1')\n",
        "plt.grid(True)\n",
        "plt.show()"
      ],
      "execution_count": 42,
      "outputs": [
        {
          "output_type": "stream",
          "text": [
            "Model accuracy : 81.6143%\n"
          ],
          "name": "stdout"
        },
        {
          "output_type": "display_data",
          "data": {
            "image/png": "[encoded data removed]",
            "text/plain": [
              "<matplotlib.figure.Figure at 0x7f772b6f88d0>"
            ]
          },
          "metadata": {
            "tags": []
          }
        }
      ]
    }
  ]
}